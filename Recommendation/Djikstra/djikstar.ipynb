{
 "cells": [
  {
   "cell_type": "code",
   "execution_count": 1,
   "metadata": {},
   "outputs": [],
   "source": [
    "import pandas as pd\n",
    "import numpy as np"
   ]
  },
  {
   "cell_type": "code",
   "execution_count": null,
   "metadata": {},
   "outputs": [],
   "source": [
    "from dijkstar import Graph, find_path"
   ]
  },
  {
   "cell_type": "markdown",
   "metadata": {},
   "source": [
    "#### Loading data in the format of src vertex, destination vertex and distance of the two points. "
   ]
  },
  {
   "cell_type": "code",
   "execution_count": 3,
   "metadata": {},
   "outputs": [],
   "source": [
    "df = pd.read_csv(\"distances_shenzhen.csv\")"
   ]
  },
  {
   "cell_type": "code",
   "execution_count": 4,
   "metadata": {},
   "outputs": [
    {
     "data": {
      "text/html": [
       "<div>\n",
       "<style scoped>\n",
       "    .dataframe tbody tr th:only-of-type {\n",
       "        vertical-align: middle;\n",
       "    }\n",
       "\n",
       "    .dataframe tbody tr th {\n",
       "        vertical-align: top;\n",
       "    }\n",
       "\n",
       "    .dataframe thead th {\n",
       "        text-align: right;\n",
       "    }\n",
       "</style>\n",
       "<table border=\"1\" class=\"dataframe\">\n",
       "  <thead>\n",
       "    <tr style=\"text-align: right;\">\n",
       "      <th></th>\n",
       "      <th>Unnamed: 0</th>\n",
       "      <th>src</th>\n",
       "      <th>dest</th>\n",
       "      <th>dist</th>\n",
       "    </tr>\n",
       "  </thead>\n",
       "  <tbody>\n",
       "    <tr>\n",
       "      <th>0</th>\n",
       "      <td>0</td>\n",
       "      <td>38570</td>\n",
       "      <td>38497</td>\n",
       "      <td>46</td>\n",
       "    </tr>\n",
       "    <tr>\n",
       "      <th>1</th>\n",
       "      <td>1</td>\n",
       "      <td>38497</td>\n",
       "      <td>38462</td>\n",
       "      <td>14</td>\n",
       "    </tr>\n",
       "    <tr>\n",
       "      <th>2</th>\n",
       "      <td>2</td>\n",
       "      <td>38351</td>\n",
       "      <td>38462</td>\n",
       "      <td>32</td>\n",
       "    </tr>\n",
       "    <tr>\n",
       "      <th>3</th>\n",
       "      <td>3</td>\n",
       "      <td>38863</td>\n",
       "      <td>38659</td>\n",
       "      <td>92</td>\n",
       "    </tr>\n",
       "    <tr>\n",
       "      <th>4</th>\n",
       "      <td>4</td>\n",
       "      <td>39565</td>\n",
       "      <td>39319</td>\n",
       "      <td>185</td>\n",
       "    </tr>\n",
       "  </tbody>\n",
       "</table>\n",
       "</div>"
      ],
      "text/plain": [
       "   Unnamed: 0    src   dest  dist\n",
       "0           0  38570  38497    46\n",
       "1           1  38497  38462    14\n",
       "2           2  38351  38462    32\n",
       "3           3  38863  38659    92\n",
       "4           4  39565  39319   185"
      ]
     },
     "execution_count": 4,
     "metadata": {},
     "output_type": "execute_result"
    }
   ],
   "source": [
    "df.head()"
   ]
  },
  {
   "cell_type": "code",
   "execution_count": 5,
   "metadata": {},
   "outputs": [],
   "source": [
    "graph = Graph()"
   ]
  },
  {
   "cell_type": "markdown",
   "metadata": {},
   "source": [
    "##### Adding edges to the graph "
   ]
  },
  {
   "cell_type": "code",
   "execution_count": 6,
   "metadata": {},
   "outputs": [],
   "source": [
    "for i in range(0,len(df)):\n",
    "    src = int(df.iloc[i]['src'])\n",
    "    dest = int(df.iloc[i]['dest'])\n",
    "    dis = int(df.iloc[i]['dist'])\n",
    "    graph.add_edge(src, dest, {'cost': dis})"
   ]
  },
  {
   "cell_type": "markdown",
   "metadata": {},
   "source": [
    "##### Saving the graph by dumping it as a .txt file"
   ]
  },
  {
   "cell_type": "markdown",
   "metadata": {},
   "source": [
    "graph.dump(\"C:\\Users\\UC\\Desktop\\graph.txt\")"
   ]
  },
  {
   "cell_type": "code",
   "execution_count": 5,
   "metadata": {},
   "outputs": [],
   "source": [
    "graph = Graph.load(\"C:\\Users\\UC\\Desktop\\graph.txt\")"
   ]
  },
  {
   "cell_type": "code",
   "execution_count": 6,
   "metadata": {},
   "outputs": [],
   "source": [
    "cost_func = lambda u, v, e, prev_e: e['cost']"
   ]
  },
  {
   "cell_type": "code",
   "execution_count": 26,
   "metadata": {},
   "outputs": [],
   "source": [
    "try:\n",
    "    ans = find_path(graph, 87635, 456, cost_func=cost_func)[0]\n",
    "except:\n",
    "    print(\"Error\")"
   ]
  },
  {
   "cell_type": "code",
   "execution_count": 28,
   "metadata": {},
   "outputs": [
    {
     "name": "stdout",
     "output_type": "stream",
     "text": [
      "[87635, 87628, 87623, 87642, 87718, 87741, 87664, 87347, 87211, 87101, 87008, 86812, 86755, 86716, 86514, 86458, 86446, 86363, 86230, 85980, 85932, 85678, 85588, 85479, 85323, 85311, 84937, 84745, 84705, 84688, 84667, 84631, 84621, 84610, 84485, 84435, 84401, 84379, 84324, 84318, 84313, 84297, 84253, 84244, 84198, 84035, 83573, 83262, 83102, 82907, 82721, 82553, 82416, 82277, 82202, 82186, 82119, 82007, 80358, 80222, 80119, 80034, 79992, 79962, 79913, 79900, 79869, 79848, 79762, 79374, 79193, 79178, 79038, 78976, 78661, 78451, 78377, 78291, 78039, 78005, 77948, 77752, 77704, 77623, 77531, 77412, 76889, 76859, 76828, 76810, 76797, 76773, 76763, 76757, 76751, 76746, 76749, 76755, 76768, 76782, 76786, 76791, 76796, 76795, 76789, 76771, 76752, 76735, 76716, 76697, 76675, 76648, 76605, 76562, 76526, 76494, 76464, 76407, 76377, 76357, 76328, 76301, 76269, 76243, 76218, 76188, 76166, 76154, 76144, 76128, 76117, 76116, 76123, 76132, 76148, 76161, 76177, 76228, 76273, 76290, 76317, 76326, 76332, 76336, 76334, 76329, 76327, 76319, 76309, 76296, 76277, 76253, 76236, 76208, 76178, 76143, 76073, 76005, 75969, 74685, 74197, 73534, 72938, 72183, 71574, 71060, 70424, 69595, 68801, 68609, 67980, 66687, 65994, 64976, 63706, 62546, 61061, 60239, 59550, 58773, 58195, 57585, 56433, 55181, 55064, 53937, 53770, 53183, 52862, 50537, 47219, 45541, 45405, 42400, 39707, 38630, 36822, 34919, 33714, 32964, 32516, 32169, 31778, 31558, 31407, 31257, 31054, 30671, 30481, 30326, 30204, 30142, 29946, 29761, 29687, 29620, 29541, 29483, 29421, 29353, 29307, 29292, 29224, 29113, 28996, 28832, 28688, 28550, 28333, 28138, 28025, 27892, 27747, 27575, 27461, 27379, 27290, 27222, 27153, 26829, 26561, 26344, 26141, 26062, 25865, 25696, 25565, 25404, 25300, 25195, 25052, 24890, 24725, 24560, 24249, 24181, 24008, 21701, 20758, 20124, 19376, 19093, 19006, 18910, 18831, 18796, 18791, 18775, 18763, 18760, 18757, 18756, 18759, 18762, 18771, 18782, 18793, 18800, 18806, 18820, 18839, 18870, 18899, 18918, 18930, 18940, 18949, 18955, 18963, 18965, 18966, 18962, 18952, 18942, 18936, 18924, 18913, 18896, 18871, 18846, 18830, 18818, 18805, 18788, 18766, 18736, 18713, 18688, 18656, 18632, 18607, 18586, 18543, 18509, 18180, 17633, 17088, 16819, 16492, 16209, 15843, 15059, 14208, 14038, 13825, 13343, 13130, 12958, 12836, 12621, 12148, 12073, 11921, 11586, 11581, 11296, 10603, 10381, 10364, 10246, 10106, 10064, 9834, 9714, 9617, 9519, 9290, 8965, 8757, 8440, 8367, 8137, 8064, 7966, 7880, 7767, 7426, 6914, 6815, 6654, 6595, 6512, 6466, 6399, 6367, 6354, 6283, 5925, 5864, 5617, 5543, 5433, 5383, 5292, 5230, 5191, 5121, 5051, 5025, 5010, 4995, 4983, 4973, 4951, 4949, 4948, 4946, 4918, 4751, 4471, 4184, 3394, 3262, 2677, 2639, 2633, 2619, 2614, 2610, 2598, 2593, 2585, 2577, 2559, 2546, 2531, 2524, 2522, 2510, 2356, 2263, 2094, 1952, 1896, 1821, 1796, 1715, 1691, 1667, 1626, 1593, 1507, 1485, 1419, 1330, 1265, 1009, 968, 803, 515, 446, 456]\n",
      "432\n"
     ]
    }
   ],
   "source": [
    "print(ans)\n",
    "print(len(ans))"
   ]
  },
  {
   "cell_type": "code",
   "execution_count": null,
   "metadata": {},
   "outputs": [],
   "source": []
  }
 ],
 "metadata": {
  "kernelspec": {
   "display_name": "Python 2",
   "language": "python",
   "name": "python2"
  },
  "language_info": {
   "codemirror_mode": {
    "name": "ipython",
    "version": 2
   },
   "file_extension": ".py",
   "mimetype": "text/x-python",
   "name": "python",
   "nbconvert_exporter": "python",
   "pygments_lexer": "ipython2",
   "version": "2.7.16"
  }
 },
 "nbformat": 4,
 "nbformat_minor": 2
}
